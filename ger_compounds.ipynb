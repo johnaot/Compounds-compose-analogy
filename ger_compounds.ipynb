{
 "cells": [
  {
   "cell_type": "code",
   "execution_count": 2,
   "metadata": {},
   "outputs": [],
   "source": [
    "import pickle\n",
    "import numpy as np\n",
    "import pandas as pd\n",
    "import seaborn as sns\n",
    "import matplotlib.pyplot as plt\n",
    "from nltk.corpus import wordnet as wn\n",
    "\n",
    "from helpers import *\n",
    "\n",
    "plt.rcParams.update({\n",
    "    'font.size': 12,\n",
    "    'text.usetex': True,\n",
    "    'text.latex.preamble': r'\\usepackage{amsfonts}'\n",
    "})\n"
   ]
  },
  {
   "cell_type": "code",
   "execution_count": 3,
   "metadata": {},
   "outputs": [
    {
     "name": "stdout",
     "output_type": "stream",
     "text": [
      "50457\n",
      "9095 42285 8608\n"
     ]
    }
   ],
   "source": [
    "# get german closed compounds\n",
    "wiktionary_etym = ''\n",
    "german_morph_path = 'data/celex2/german/gml/gml.cd'\n",
    "german_compound_path1 = 'data/Dataset1810.txt'\n",
    "german_compound_path2 = 'data/Dataset40475.txt'\n",
    "\n",
    "deu_prefix, deu_suffix, deu_infix = get_affixes(wiktionary_etym, 'deu')\n",
    "deu_wiki_comps = get_etymology(wiktionary_etym, lang='deu', etym_type='com')\n",
    "deu_wiki_comps = {k: v[0] for k, v in deu_wiki_comps.items() if len(v[0]) == 2}\n",
    "\n",
    "deu_celex_comps = read_celex_compounds(german_morph_path, 8, stopwords_deu, deu_prefix, deu_suffix)\n",
    "deu_celex_comps = {k: v for k, v in deu_celex_comps.items() if len(v) == 2} # only two constituents\n",
    "\n",
    "deu_comps_df1 = pd.read_csv(german_compound_path1, sep=' ', encoding='latin1')\n",
    "deu_comps_df2 = pd.read_csv(german_compound_path2, sep=' ', encoding='latin1')\n",
    "deu_comps = {w: (deu_comps_df1['mod'][i], deu_comps_df1['head'][i]) for i, w in enumerate(deu_comps_df1['comp'])}\n",
    "deu_comps.update({w: (deu_comps_df2['mod'][i], deu_comps_df2['head'][i]) \\\n",
    "                  for i, w in enumerate(deu_comps_df2['comp'])})\n",
    "deu_comps['nullwert'] = ('null', 'wert')\n",
    "\n",
    "print(len(deu_wiki_comps), len(deu_comps), len(deu_celex_comps))\n"
   ]
  },
  {
   "cell_type": "code",
   "execution_count": 5,
   "metadata": {
    "scrolled": true
   },
   "outputs": [
    {
     "name": "stdout",
     "output_type": "stream",
     "text": [
      "52982\n"
     ]
    }
   ],
   "source": [
    "# convert other dataets to celex spelling\n",
    "def convert_spelling(parse):\n",
    "    convert_string = lambda w : ''.join([german_char_celex[c] if c in german_char_celex else c for c in list(w)])\n",
    "    return {convert_string(k): (convert_string(v[0]), convert_string(v[1])) for k, v in parse.items()}\n",
    "\n",
    "convert = True\n",
    "output_fn = 'data/ger_compounds.pkl' if convert else 'data/ger_compounds_unicode.pkl'\n",
    "parse = {}\n",
    "\n",
    "if convert:\n",
    "    deu_wiki_comps = convert_spelling(deu_wiki_comps)\n",
    "    deu_comps = convert_spelling(deu_comps)\n",
    "    parse.update(deu_wiki_comps)\n",
    "    parse.update(deu_comps)\n",
    "    parse.update(deu_celex_comps)\n",
    "else:\n",
    "    parse.update(deu_wiki_comps)\n",
    "    parse.update(deu_comps)\n",
    "    \n",
    "# make word lists for descriptive statistics\n",
    "parse = {k: v for k, v in parse.items() if k.isalpha()} # use closed compounds\n",
    "pickle.dump((parse, {}), open(output_fn, 'wb'))\n",
    "print(len(parse))\n",
    "\n",
    "compound_forms = {w for w in parse}\n"
   ]
  },
  {
   "cell_type": "code",
   "execution_count": 11,
   "metadata": {},
   "outputs": [
    {
     "name": "stdout",
     "output_type": "stream",
     "text": [
      "total number of (closed) compounds: 48214\n",
      "\n",
      "top 30 head words\n",
      "('system', 229) überwachungssystem, kreislaufsystem, dokumentationssystem, kontrollsystem, umweltmanagementsystem, ...\n",
      "('zeit', 223) tatzeit, schulzeit, probezeit, karnevalszeit, bronzezeit, ...\n",
      "('recht', 200) kindschaftsrecht, vereinsrecht, unternehmensrecht, kaufrecht, selbstverwaltungsrecht, ...\n",
      "('haus', 197) jugendhaus, modehaus, gewerkschaftshaus, nachbarhaus, siechenhaus, ...\n",
      "('arbeit', 185) küchenarbeit, muskelarbeit, überzeugungsarbeit, hilfsarbeit, jugendarbeit, ...\n",
      "('bereich', 183) gemeindebereich, schattenbereich, innenstadtbereich, geschäftsbereich, frequenzbereich, ...\n",
      "('gesetz', 159) börsengesetz, grundsicherungsgesetz, aktiengesetz, arbeitsförderungsgesetz, hochschulgesetz, ...\n",
      "('gruppe', 155) fachgruppe, splittergruppe, muskelgruppe, inselgruppe, blutgruppe, ...\n",
      "('spiel', 147) skandalspiel, farbenspiel, ringelspiel, testspiel, saisonspiel, ...\n",
      "('gebiet', 144) aufgabengebiet, ortsgebiet, wüstengebiet, tiefdruckgebiet, operationsgebiet, ...\n",
      "('form', 140) familienform, herrschaftsform, kapselform, gesichtsform, frageform, ...\n",
      "('bau', 139) museumsbau, zweckbau, musikinstrumentenbau, ackerbau, erweiterungsbau, ...\n",
      "('raum', 139) benutzerraum, hallraum, hobbyraum, gepäckraum, gemeinderaum, ...\n",
      "('anlage', 137) sprinkleranlage, maschinenanlage, toilettenanlage, platzanlage, funkanlage, ...\n",
      "('politik', 134) geldpolitik, kohlepolitik, deflationspolitik, expansionspolitik, blockadepolitik, ...\n",
      "('werk', 131) sägewerk, motorenwerk, hilfswerk, glaswerk, stadtwerk, ...\n",
      "('technik', 131) umwelttechnik, digitaltechnik, bürotechnik, anlagentechnik, atomtechnik, ...\n",
      "('geschichte', 131) heimatgeschichte, eisenbahngeschichte, medizingeschichte, baugeschichte, kalendergeschichte, ...\n",
      "('programm', 130) softwareprogramm, zeugenschutzprogramm, sanierungsprogramm, wohnungsbauprogramm, reformprogramm, ...\n",
      "('tag', 127) umwelttag, wintertag, kalendertag, namenstag, projekttag, ...\n",
      "('bild', 123) druckbild, altarbild, hochzeitsbild, beschwerdebild, luftbild, ...\n",
      "('schule', 118) europaschule, volksschule, bauschule, gemeinschaftsschule, bürgerschule, ...\n",
      "('preis', 116) mietpreis, kleinkunstpreis, marktpreis, anschaffungspreis, pachtpreis, ...\n",
      "('stelle', 114) bruchstelle, rettungsstelle, mautstelle, leckstelle, funktionsstelle, ...\n",
      "('gesellschaft', 113) landwirtschaftsgesellschaft, geheimgesellschaft, aktiengesellschaft, friedensgesellschaft, tochtergesellschaft, ...\n",
      "('wert', 108) verkehrswert, streitwert, blutwert, freizeitwert, mittelwert, ...\n",
      "('dienst', 108) gottesdienst, frondienst, reinigungsdienst, mediendienst, götterdienst, ...\n",
      "('land', 107) andenland, neuland, musterland, abnehmerland, bundesland, ...\n",
      "('verfahren', 107) gerichtsverfahren, revisionsverfahren, behandlungsverfahren, ermittlungsverfahren, näherungsverfahren, ...\n",
      "('betrieb', 107) ligabetrieb, nahverkehrsbetrieb, gewerbebetrieb, zweigbetrieb, beschäftigungsbetrieb, ...\n",
      "\n",
      "top 30 modifier words\n",
      "('land', 279) landesteilung, landesetat, landesverband, landeswahlleiter, landesgeschäftsführer, ...\n",
      "('wasser', 232) wasserkocher, wasserströmung, wasserkante, wasserschlange, wasserbehörde, ...\n",
      "('stadt', 200) stadtschulrat, stadtadel, stadtbahnbetrieb, stadtwerk, stadtgründung, ...\n",
      "('arbeit', 196) arbeitgeber, arbeitsphysiologie, arbeitsmittel, arbeitsbeschaffung, arbeitsbericht, ...\n",
      "('bau', 189) bauhandwerk, baumuster, bauwagen, bauart, bauherrschaft, ...\n",
      "('bund', 175) bundesforschungsministerium, bundesverdienstkreuz, bundesberufungsgericht, bundespräsident, bundesbesoldungsgesetz, ...\n",
      "('schule', 174) schulzeit, schulpsychologie, schullandschaft, schulträger, schulprojekt, ...\n",
      "('staat', 173) staatsverständnis, staatsgut, staatsarchiv, staatswappen, staatsbegräbnis, ...\n",
      "('holz', 156) holzwerkstatt, holzdeckel, holzbesteck, holzbildhauer, holzstatue, ...\n",
      "('zeit', 155) zeitdilatation, zeitstück, zeitsignal, zeitdruck, zeitangabe, ...\n",
      "('haus', 154) hausmädchen, hauskreis, hauswand, hauskauf, hausunterricht, ...\n",
      "('film', 151) filmmusik, filmsprache, filmband, filmposter, filmkritiker, ...\n",
      "('spiel', 151) spielrunde, spielunterbrechung, spielausgang, spielehersteller, spielszene, ...\n",
      "('volk', 151) volksbeauftragte, völkerschau, volkshochschule, volkskirche, volkswille, ...\n",
      "('welt', 149) weltgebetstag, welthandelsorganisation, weltkrieg, weltsicht, weltmission, ...\n",
      "('kind', 148) kinderfernsehen, kindesalter, kinderkram, kinderroman, kinderfreund, ...\n",
      "('recht', 141) rechtsangelegenheit, rechtsmaterie, rechtsliteratur, rechtsmittel, rechtsfindung, ...\n",
      "('krieg', 138) kriegserlebnis, kriegsflugzeug, kriegsbeschädigte, kriegssituation, kriegszeit, ...\n",
      "('musik', 137) musikstudent, musikinstrument, musikprojekt, musiksammlung, musiklandschaft, ...\n",
      "('kunst', 135) kunstmesse, kunstmalerin, kunsthandwerk, kunststück, kunsttheorie, ...\n",
      "('wirtschaft', 134) wirtschaftsstruktur, wirtschaftsstandort, wirtschaftsforschungsinstitut, wirtschaftsordnung, wirtschaftsführung, ...\n",
      "('leben', 131) lebensretter, lebensarbeitszeit, lebensbeschreibung, lebensniveau, lebensäusserung, ...\n",
      "('bild', 130) bildwechsel, bildhauer, bildzitat, bildberichterstattung, bilderbuch, ...\n",
      "('kultur', 130) kulturauftrag, kulturkreis, kulturphänomen, kulturepoche, kulturdezernent, ...\n",
      "('sport', 128) sportabzeichen, sportunterricht, sportfilm, sportschiessen, sportrecht, ...\n",
      "('fach', 123) fachgruppe, fachwelt, fachterminologie, fachreferat, fachwerk, ...\n",
      "('jugend', 121) jugendhaus, jugendarbeit, jugendradio, jugendreise, jugendinitiative, ...\n",
      "('kirche', 121) kirchenlehrer, kirchgemeinde, kirchenvertreter, kirchenoberhaupt, kirchenzucht, ...\n",
      "('luft', 119) luftgewehr, luftbläschen, luftschall, luftwaffe, luftbild, ...\n",
      "('verkehr', 119) verkehrswert, verkehrswacht, verkehrspsychologe, verkehrsregel, verkehrssünder, ...\n",
      "\n"
     ]
    }
   ],
   "source": [
    "k = 30\n",
    "print(f'total number of (closed) compounds: {len(compound_forms)}\\n')\n",
    "\n",
    "print(f'top {k} head words')\n",
    "head_count_closed = print_top_words(compound_forms, parse, 1, k)\n",
    "print('')\n",
    "print(f'top {k} modifier words')\n",
    "modifier_count_closed = print_top_words(compound_forms, parse, 0, k)\n",
    "print('')\n"
   ]
  },
  {
   "cell_type": "code",
   "execution_count": 12,
   "metadata": {},
   "outputs": [
    {
     "name": "stdout",
     "output_type": "stream",
     "text": [
      "total number of (closed) ids compounds: 173\n",
      "\n",
      "top 30 head words\n",
      "('tag', 6) Sonntag, Montag, Dienstag, Donnerstag, Freitag, ...\n",
      "('band', 4) Armband, Halsband, Stirnband, Kopfband\n",
      "('mutter', 3) Schwiegermutter, Stiefmutter, Gebärmutter\n",
      "('tuch', 3) Taschentuch, Schnupftuch, Handtuch\n",
      "('haus', 3) Gartenhaus, Männerhaus, Gemeinschaftshaus\n",
      "('mann', 3) Zimmermann, Kaufmann, Edelmann\n",
      "('schlag', 2) Blitzschlag, Augenschlag\n",
      "('bogen', 2) Regenbogen, Ellenbogen\n",
      "('holz', 2) Zündholz, Brennholz\n",
      "('vater', 2) Schwiegervater, Stiefvater\n",
      "('sohn', 2) Schwiegersohn, Stiefsohn\n",
      "('tochter', 2) Schwiegertochter, Stieftochter\n",
      "('haar', 2) Körperhaar, Schamhaar\n",
      "('säule', 2) Wirbelsäule, Bildsäule\n",
      "('mittel', 2) Heilmittel, Färbemittel\n",
      "('zeit', 2) Mahlzeit, Jahreszeit\n",
      "('essen', 2) Mittagessen, Abendessen\n",
      "('rock', 2) Bastrock, Grasrock\n",
      "('beil', 2) Dachsbeil, Querbeil\n",
      "('netz', 2) Fangnetz, Fischernetz\n",
      "('Land', 1) Festland\n",
      "('stille', 1) Meeresstille\n",
      "('meer', 1) Weltmeer\n",
      "('busen', 1) Meerbusen\n",
      "('zunge', 1) Landzunge\n",
      "('fall', 1) Wasserfall\n",
      "('beben', 1) Erdbeben\n",
      "('Holz', 1) Streichholz\n",
      "('kohle', 1) Holzkohle\n",
      "('Mann', 1) Ehemann\n",
      "\n",
      "top 30 modifier words\n",
      "('Schwieger', 4) Schwiegervater, Schwiegermutter, Schwiegersohn, Schwiegertochter\n",
      "('Stief', 4) Stiefvater, Stiefmutter, Stiefsohn, Stieftochter\n",
      "('hand', 4) Handgelenk, Handfläche, Handschuh, Handtuch\n",
      "('erde', 2) Erdbeben, Erdapfel\n",
      "('Ehe', 2) Ehemann, Ehefrau\n",
      "('ehe', 2) Ehescheidung, Ehebruch\n",
      "('groß', 2) Großvater, Großmutter\n",
      "('maul', 2) Maultier, Maulesel\n",
      "('Spinn', 2) Spinngewebe, Spinnwebe\n",
      "('biene', 2) Bienenwachs, Bienenwabe\n",
      "('rück', 2) Rückgrat, Rückzug\n",
      "('auge', 2) Augenbraue, Augenlid\n",
      "('Augen', 2) Augenwimper, Augenschlag\n",
      "('ohr', 2) Ohrenschmalz, Ohrring\n",
      "('fuß', 2) Fußabdruck, Fußspur\n",
      "('hinter', 2) Hinterteil, Hinterhalt\n",
      "('Back', 2) Backofen, Backstein\n",
      "('abend', 2) Abendessen, Abendbrot\n",
      "('baum', 2) Baumwolle, Baumstamm\n",
      "('dach', 2) Dachfirstbalken, Dachbalken\n",
      "('sonn', 2) Sonntag, Sonnabend\n",
      "('fest', 1) Festland\n",
      "('Meer', 1) Meeresstille\n",
      "('welt', 1) Weltmeer\n",
      "('meer', 1) Meerbusen\n",
      "('land', 1) Landzunge\n",
      "('wasser', 1) Wasserfall\n",
      "('blitz', 1) Blitzschlag\n",
      "('Regen', 1) Regenbogen\n",
      "('streich', 1) Streichholz\n",
      "\n"
     ]
    }
   ],
   "source": [
    "# get (closed) compounds from IDS\n",
    "closed_ids_comps = pd.read_csv('data/ids_words/comps/ids_ger_comp_(Lea).csv')\n",
    "comps_ids = closed_ids_comps['word'].to_list()\n",
    "parse_ids = {w: (closed_ids_comps['c1'][i], closed_ids_comps['c2'][i]) for i, w in enumerate(comps_ids)}\n",
    "\n",
    "k = 30\n",
    "print(f'total number of (closed) ids compounds: {len(comps_ids)}\\n')\n",
    "\n",
    "print(f'top {k} head words')\n",
    "head_count_ids = print_top_words(comps_ids, parse_ids, 1, k)\n",
    "print('')\n",
    "print(f'top {k} modifier words')\n",
    "modifier_count_ids = print_top_words(comps_ids, parse_ids, 0, k)\n",
    "print('')\n",
    "\n"
   ]
  },
  {
   "cell_type": "code",
   "execution_count": 13,
   "metadata": {},
   "outputs": [
    {
     "name": "stdout",
     "output_type": "stream",
     "text": [
      "closed compounds...\n"
     ]
    },
    {
     "data": {
      "image/png": "[encoded data removed]",
      "text/plain": [
       "<Figure size 1008x259.2 with 4 Axes>"
      ]
     },
     "metadata": {
      "needs_background": "light"
     },
     "output_type": "display_data"
    },
    {
     "name": "stdout",
     "output_type": "stream",
     "text": [
      "ids compounds...\n"
     ]
    },
    {
     "data": {
      "image/png": "[encoded data removed]",
      "text/plain": [
       "<Figure size 1008x259.2 with 4 Axes>"
      ]
     },
     "metadata": {
      "needs_background": "light"
     },
     "output_type": "display_data"
    }
   ],
   "source": [
    "# plot distributions\n",
    "print('closed compounds...')\n",
    "fig, axes = plt.subplots(1, 4, sharex=False, sharey=False, figsize=(7*2,3.6))\n",
    "axes[0:2] = make_rank_plot(axes[0:2], sorted(head_count_closed.keys(), key=lambda w: -head_count_closed[w]), \\\n",
    "                           head_count_closed, 'Head')\n",
    "axes[2:] = make_rank_plot(axes[2:], sorted(modifier_count_closed.keys(), key=lambda w: -modifier_count_closed[w]), \\\n",
    "                          modifier_count_closed, 'Modifier')\n",
    "fig.tight_layout()\n",
    "plt.show()\n",
    "\n",
    "print('ids compounds...')\n",
    "fig, axes = plt.subplots(1, 4, sharex=False, sharey=False, figsize=(7*2,3.6))\n",
    "axes[0:2] = make_rank_plot(axes[0:2], sorted(head_count_ids.keys(), key=lambda w: -head_count_ids[w]), \\\n",
    "                           head_count_ids, 'Head')\n",
    "axes[2:] = make_rank_plot(axes[2:], sorted(modifier_count_ids.keys(), key=lambda w: -modifier_count_ids[w]), \\\n",
    "                          modifier_count_ids, 'Modifier')\n",
    "fig.tight_layout()\n",
    "plt.show()\n"
   ]
  },
  {
   "cell_type": "code",
   "execution_count": null,
   "metadata": {},
   "outputs": [],
   "source": []
  }
 ],
 "metadata": {
  "kernelspec": {
   "display_name": "Python 3",
   "language": "python",
   "name": "python3"
  },
  "language_info": {
   "codemirror_mode": {
    "name": "ipython",
    "version": 3
   },
   "file_extension": ".py",
   "mimetype": "text/x-python",
   "name": "python",
   "nbconvert_exporter": "python",
   "pygments_lexer": "ipython3",
   "version": "3.7.3"
  }
 },
 "nbformat": 4,
 "nbformat_minor": 2
}
