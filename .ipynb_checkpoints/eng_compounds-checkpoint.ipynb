{
 "cells": [
  {
   "cell_type": "code",
   "execution_count": 2,
   "metadata": {},
   "outputs": [],
   "source": [
    "import pickle\n",
    "import numpy as np\n",
    "import pandas as pd\n",
    "import seaborn as sns\n",
    "import matplotlib.pyplot as plt\n",
    "from nltk.corpus import wordnet as wn\n",
    "\n",
    "from helpers import *\n",
    "\n",
    "plt.rcParams.update({\n",
    "    'font.size': 12,\n",
    "    'text.usetex': True,\n",
    "    'text.latex.preamble': r'\\usepackage{amsfonts}'\n",
    "})\n"
   ]
  },
  {
   "cell_type": "code",
   "execution_count": 3,
   "metadata": {},
   "outputs": [
    {
     "name": "stdout",
     "output_type": "stream",
     "text": [
      "43616\n",
      "19277 5622 6778\n",
      "26097\n",
      "53818\n"
     ]
    }
   ],
   "source": [
    "# get english (closed) compounds\n",
    "ladec_compound_path = ''\n",
    "wiktionary_etym = ''\n",
    "english_morph_path = 'data/celex2/english/eml/eml.cd'\n",
    "\n",
    "eng_prefix, eng_suffix, eng_infix = get_affixes(wiktionary_etym, 'eng')\n",
    "eng_wiki_comps = get_etymology(wiktionary_etym, lang='eng', etym_type='com', uppercase_filter=True)\n",
    "eng_wiki_comps = {k: v[0] for k, v in eng_wiki_comps.items() if len(v[0]) == 2}\n",
    "\n",
    "eng_celex_comps = read_celex_compounds(english_morph_path, 11, stopwords_eng, eng_prefix, eng_suffix, True)\n",
    "eng_celex_comps = {k: v for k, v in eng_celex_comps.items() if len(v) == 2} # only two constituents\n",
    "\n",
    "eng_ladec_comps = {}\n",
    "LADEC_table = pd.read_csv(ladec_compound_path)\n",
    "for i, w in enumerate(LADEC_table['stim']):\n",
    "    if LADEC_table['isPlural'][i]: continue\n",
    "    if LADEC_table['correctParse'][i] == 'no': continue\n",
    "    w1 = LADEC_table['c1'][i]\n",
    "    w2 = LADEC_table['c2'][i]\n",
    "    eng_ladec_comps[w] = [w1, w2]\n",
    "\n",
    "print(len(eng_wiki_comps), len(eng_ladec_comps), len(eng_celex_comps))\n",
    "print(len(set(eng_wiki_comps.keys()) | set(eng_ladec_comps.keys()) | set(eng_celex_comps.keys())))\n",
    "    \n",
    "# print('sarabeth' in eng_wiki_comps)\n",
    "# print('sarabeth' in eng_ladec_comps)\n",
    "# print('sarabeth' in eng_celex_comps)\n",
    "\n",
    "# get combinations from wordnet\n",
    "wn_combinations = {}\n",
    "for w in wn.all_lemma_names():\n",
    "    p = w.split('-')\n",
    "    if len(p) == 2 and all(u.isalpha() and (not u in stopwords_eng) for u in p):\n",
    "        wn_combinations[w] = w.split('-')\n",
    "    p = w.split('_')\n",
    "    if len(p) == 2 and all(u.isalpha() and (not u in stopwords_eng) for u in p):\n",
    "        wn_combinations[w] = w.split('_')\n",
    "\n",
    "print(len(wn_combinations))\n"
   ]
  },
  {
   "cell_type": "code",
   "execution_count": 4,
   "metadata": {},
   "outputs": [
    {
     "name": "stdout",
     "output_type": "stream",
     "text": [
      "21298\n"
     ]
    }
   ],
   "source": [
    "# make word lists for descriptive statistics\n",
    "parse = {}\n",
    "parse.update(eng_wiki_comps)\n",
    "parse.update(eng_ladec_comps)\n",
    "# parse.update(eng_celex_comps)\n",
    "print(len(parse))\n",
    "\n",
    "parse_full = wn_combinations.copy()\n",
    "parse_full.update(parse)\n",
    "parse = {k: v for k, v in parse.items() if k.isalpha()}\n",
    "pickle.dump((parse, parse_full), open('data/eng_compounds.pkl', 'wb'))\n",
    "\n",
    "compound_forms = {w for w in parse}\n",
    "compound_forms_full = {w for w in parse_full}\n",
    "\n"
   ]
  },
  {
   "cell_type": "code",
   "execution_count": 9,
   "metadata": {},
   "outputs": [
    {
     "name": "stdout",
     "output_type": "stream",
     "text": [
      "total number of (closed) compounds: 21559\n",
      "\n",
      "top 30 head words\n",
      "('man', 315) liegeman, dalesman, badman, raftsman, bowman, ...\n",
      "('work', 272) smithwork, endwork, fanwork, pointwork, swordwork, ...\n",
      "('fish', 266) coalfish, mousefish, creekfish, balloonfish, sandfish, ...\n",
      "('head', 256) cockhead, egghead, forehead, brickhead, knothead, ...\n",
      "('maker', 246) grantmaker, legendmaker, ballmaker, capmaker, causeymaker, ...\n",
      "('board', 207) offboard, strawboard, wallboard, workboard, boogieboard, ...\n",
      "('line', 207) broadline, bassline, bankline, soupline, paceline, ...\n",
      "('house', 203) pithouse, chophouse, clubhouse, milkhouse, showhouse, ...\n",
      "('making', 199) craftmaking, newsmaking, matmaking, sleevemaking, dealmaking, ...\n",
      "('wood', 199) redwood, leadwood, spoonwood, dyewood, greenwood, ...\n",
      "('back', 185) finback, laceback, crookback, goldenback, plugback, ...\n",
      "('stone', 170) hammerstone, needlestone, soapstone, waterstone, gravestone, ...\n",
      "('way', 163) areaway, bikeway, truckway, oilway, flyway, ...\n",
      "('wort', 157) spurwort, navelwort, squinancywort, staggerwort, knotwort, ...\n",
      "('ball', 156) screwball, brandyball, woodball, racquetball, rootball, ...\n",
      "('woman', 148) bowwoman, washerwoman, infantrywoman, wingwoman, freedwoman, ...\n",
      "('weed', 143) duckweed, fuckweed, clearweed, goutweed, sneezeweed, ...\n",
      "('land', 138) quarterland, lotusland, magazineland, restaurantland, thirstland, ...\n",
      "('box', 132) sweatbox, snuffbox, kickbox, jambox, jawbox, ...\n",
      "('berry', 118) snowberry, cloudberry, squashberry, cackleberry, hedgeberry, ...\n",
      "('bird', 110) tinkerbird, plumebird, beambird, surfbird, waxbird, ...\n",
      "('master', 109) taskmaster, chorusmaster, scoutmaster, harbourmaster, bargemaster, ...\n",
      "('hole', 109) lughole, earhole, creephole, knuckerhole, spyhole, ...\n",
      "('mate', 105) bookmate, labelmate, squadmate, stablemate, reflexmate, ...\n",
      "('tail', 104) bristletail, tapetail, mousetail, hardtail, whitetail, ...\n",
      "('out', 97) runout, wideout, pushout, layout, thereout, ...\n",
      "('worm', 95) melonworm, palmerworm, leafworm, arrowworm, groundworm, ...\n",
      "('person', 88) cattleperson, pitchperson, boatperson, soundperson, vestryperson, ...\n",
      "('boy', 87) ploughboy, pussyboy, linkboy, pageboy, postboy, ...\n",
      "('book', 86) gamebook, deskbook, casebook, wishbook, viewbook, ...\n",
      "\n",
      "top 30 modifier words\n",
      "('back', 210) backtime, backbulge, backlit, backflop, backblast, ...\n",
      "('head', 135) headlamp, headspin, headbobbing, headgroup, headshrink, ...\n",
      "('hand', 133) handfeed, handwringer, handseller, handlist, handcare, ...\n",
      "('fire', 123) firebrick, firegrate, firesteel, firefighting, fireform, ...\n",
      "('air', 113) airphone, airworthiness, aircrane, airflow, airleg, ...\n",
      "('sun', 105) sunspot, sunshaft, sunbake, sunhat, suntrap, ...\n",
      "('foot', 104) foothook, footprint, foothill, footwriting, footfucker, ...\n",
      "('over', 99) overseer, overrating, overheight, overtime, overcoating, ...\n",
      "('water', 98) waterplane, waterbag, waterbike, waterstone, waterclock, ...\n",
      "('house', 93) housefolk, housecat, housebody, housefrock, housemother, ...\n",
      "('sea', 87) seacoast, seascape, searocket, seaday, seaborne, ...\n",
      "('wood', 83) woodball, woodgrain, woodburning, woodfern, woodhoopoe, ...\n",
      "('snow', 82) snowfleck, snowberry, snowbound, snowmeow, snowbase, ...\n",
      "('play', 79) playspot, playdown, playstyle, playbox, playsong, ...\n",
      "('under', 79) undertext, undercover, underframe, underpuppy, underworld, ...\n",
      "('side', 77) sideboob, sidescraper, sidelobe, sidebearing, sidesplitting, ...\n",
      "('home', 76) homeowning, homeworking, homebrew, homevid, homeport, ...\n",
      "('horse', 75) horsebean, horsedung, horseload, horsepox, horseweed, ...\n",
      "('down', 73) downfall, downthrown, downclimb, downhearted, downforce, ...\n",
      "('work', 72) workstead, workboard, workman, workmate, workplace, ...\n",
      "('bed', 70) bedkey, bedlinen, bedwork, bedplate, bedside, ...\n",
      "('eye', 67) eyelock, eyeshine, eyelift, eyebeam, eyestrain, ...\n",
      "('black', 67) blacksnake, blackguard, blackrider, blackmail, blackbuck, ...\n",
      "('wind', 65) windblown, windbell, windpower, windsock, windslab, ...\n",
      "('methyl', 63) methylacetylene, methylhistidine, methylamino, methylimidazolium, methylarginine, ...\n",
      "('book', 57) bookmate, bookstave, bookrest, bookbindery, bookrunner, ...\n",
      "('star', 57) stargate, starlit, starspot, starmonger, starsnout, ...\n",
      "('sky', 57) skymap, skycam, skyscraping, skysurfer, skywalker, ...\n",
      "('moon', 57) moonburn, moonstomp, moondust, moonraker, moonshell, ...\n",
      "('red', 56) redwood, redskin, redfin, redline, redsear, ...\n",
      "\n"
     ]
    }
   ],
   "source": [
    "k = 30\n",
    "print(f'total number of (closed) compounds: {len(compound_forms)}\\n')\n",
    "\n",
    "print(f'top {k} head words')\n",
    "head_count_closed = print_top_words(compound_forms, parse, 1, k)\n",
    "print('')\n",
    "print(f'top {k} modifier words')\n",
    "modifier_count_closed = print_top_words(compound_forms, parse, 0, k)\n",
    "print('')\n",
    "\n"
   ]
  },
  {
   "cell_type": "code",
   "execution_count": 10,
   "metadata": {},
   "outputs": [
    {
     "name": "stdout",
     "output_type": "stream",
     "text": [
      "total number of (all) compounds: 79529\n",
      "\n",
      "top 30 head words\n",
      "('man', 415) liegeman, dalesman, badman, bowman, pitchman, ...\n",
      "('line', 389) guide-line, lubber_line, broadline, bassline, log_line, ...\n",
      "('fish', 359) coalfish, lookdown_fish, sandfish, rudderfish, jugfish, ...\n",
      "('house', 310) pithouse, showhouse, lighthouse, alms-house, sweathouse, ...\n",
      "('tree', 310) portia_tree, larch_tree, cacao_tree, plumcot_tree, smoke_tree, ...\n",
      "('work', 287) smithwork, pointwork, formwork, keywork, rackwork, ...\n",
      "('head', 285) egghead, forehead, human_head, snake-head, knothead, ...\n",
      "('maker', 279) grantmaker, legendmaker, causeymaker, sausagemaker, printmaker, ...\n",
      "('board', 279) offboard, wallboard, composition_board, workboard, boogieboard, ...\n",
      "('back', 249) finback, crookback, paying_back, plugback, ladder-back, ...\n",
      "('wood', 235) leadwood, greenwood, rubywood, bearwood, leatherwood, ...\n",
      "('ball', 226) roulette_ball, matzah_ball, woodball, rugby_ball, racquetball, ...\n",
      "('acid', 217) ascorbic_acid, ethanedioic_acid, mucic_acid, isocyanic_acid, super_acid, ...\n",
      "('box', 214) sweatbox, snuffbox, jambox, softbox, letterbox, ...\n",
      "('family', 211) carnation_family, strelitzia_family, sandalwood_family, yam_family, cunonia_family, ...\n",
      "('making', 209) newsmaking, dealmaking, icemaking, rulemaking, theatremaking, ...\n",
      "('grass', 205) canegrass, feathergrass, lemongrass, wiregrass, bottle-grass, ...\n",
      "('stone', 200) hammerstone, soapstone, gravestone, tilestone, whinstone, ...\n",
      "('away', 195) sign_away, laugh_away, brush away, break_away, put away, ...\n",
      "('system', 190) value-system, dynamical_system, circulatory system, reproductive_system, hexadecimal_system, ...\n",
      "('time', 188) backtime, terrestrial_time, quadruple time, onetime, full-time, ...\n",
      "('bird', 185) beambird, perching_bird, apostlebird, ladybird, whipbird, ...\n",
      "('person', 179) cattleperson, male_person, pitchperson, small_person, oriental_person, ...\n",
      "('river', 179) niobrara_river, parana_river, apalachicola_river, araguaia_river, angara_river, ...\n",
      "('weed', 177) duckweed, cudweed, cockweed, horseweed, notchweed, ...\n",
      "('woman', 174) washerwoman, axewoman, wonder_woman, bowerwoman, linkswoman, ...\n",
      "('room', 174) sleeping_room, wireroom, furnace_room, stillroom, standing room, ...\n",
      "('way', 173) areaway, bikeway, truckway, oilway, routeway, ...\n",
      "('plant', 170) wax_plant, telegraph_plant, chickpea_plant, pot_plant, desert_plant, ...\n",
      "('wort', 159) squinancywort, staggerwort, knotwort, birthwort, butterwort, ...\n",
      "\n",
      "top 30 modifier words\n",
      "('genus', 3644) genus_pagophilus, genus_streptomyces, genus_artemisia, genus_deparia, genus_circaea, ...\n",
      "('family', 1196) family_sylviidae, family_pyrrhocoridae, family_anomalopidae, family_salamandridae, family_terebellidae, ...\n",
      "('order', 344) order_therapsida, order_ganoidei, order_alismales, order_graminales, order_hypericales, ...\n",
      "('water', 287) water-tower, water_gauge, waterplane, water_main, water_hammer, ...\n",
      "('black', 252) black_eye, black_grouse, black_fox, blackguard, black-lead, ...\n",
      "('white', 243) whiterump, whitefeller, white_potato, white_mulberry, whitehaired, ...\n",
      "('back', 235) backtime, backlit, backscattering, backfat, backcard, ...\n",
      "('sea', 224) sea-coal, sea_squill, sea_tang, sea_chub, sea_trifoly, ...\n",
      "('self', 208) self-satisfaction, self-limited, self-luminous, self-pollinating, self-assertive, ...\n",
      "('air', 207) airphone, air_sac, air_corps, air_force, airsled, ...\n",
      "('red', 199) red-blind, redeyed, red_cross, red_ink, red_bay, ...\n",
      "('fire', 195) firegrate, firesteel, fire_blight, fire_tower, fire hydrant, ...\n",
      "('high', 184) highbush, high_muckamuck, hightide, highgate, high-tech, ...\n",
      "('hand', 175) hand_job, handseller, hand-operated, handcart, handlock, ...\n",
      "('common', 175) common_nuisance, common_buttercup, common_dolphin, common_shares, common_apricot, ...\n",
      "('head', 165) head_rhyme, headspin, headshrink, headwind, headpole, ...\n",
      "('blue', 165) blue blood, blueschist, blue_air, bluebreast, blue_pike, ...\n",
      "('class', 148) class_deuteromycetes, class-feeling, class_cestoda, class_gastromycetes, class_cycadopsida, ...\n",
      "('wood', 144) woodball, wood-fired, wood_warbler, wood_ant, woodhouse, ...\n",
      "('sun', 143) sunspot, sunshaft, sunhat, suntrap, sunphotometric, ...\n",
      "('double', 135) double_entendre, double_helix, double_cream, double_sharp, doublehearted, ...\n",
      "('house', 130) house_trailer, house_sparrow, housecat, house_painting, house_physician, ...\n",
      "('home', 130) home_help, home_port, home_key, homemaker, homebuilding, ...\n",
      "('horse', 125) horsebean, horse around, horsedung, horseload, horsepox, ...\n",
      "('blood', 124) blood sport, blood_count, blood_fluke, bloodleaf, blood-type, ...\n",
      "('yellow', 124) yellow_jacket, yellow_pine, yellow_milkwort, yellow_clintonia, yellowbelly, ...\n",
      "('foot', 120) foothook, foothill, footwriting, footfucker, footlicker, ...\n",
      "('long', 119) long-distance, longbow, long_distance, long-run, longtail, ...\n",
      "('green', 115) greenstuff, greenfodder, greenwood, greenfeed, greenheart, ...\n",
      "('hard', 114) hard_water, hardtail, hard_currency, hard currency, hard line, ...\n",
      "\n"
     ]
    }
   ],
   "source": [
    "k = 30\n",
    "print(f'total number of (all) compounds: {len(compound_forms_full)}\\n')\n",
    "\n",
    "print(f'top {k} head words')\n",
    "head_count_full = print_top_words(compound_forms_full, parse_full, 1, k)\n",
    "print('')\n",
    "print(f'top {k} modifier words')\n",
    "modifier_count_full = print_top_words(compound_forms_full, parse_full, 0, k)\n",
    "print('')\n",
    "\n"
   ]
  },
  {
   "cell_type": "code",
   "execution_count": 11,
   "metadata": {},
   "outputs": [
    {
     "name": "stdout",
     "output_type": "stream",
     "text": [
      "total number of (closed) ids compounds: 83\n",
      "\n",
      "top 30 head words\n",
      "('man', 4) herdsman, nobleman, freeman, fisherman\n",
      "('land', 3) island, mainland, headland\n",
      "('fly', 3) sandfly, firefly, butterfly\n",
      "('side', 3) beside, inside, outside\n",
      "('day', 3) midday, today, yesterday\n",
      "('tide', 2) lowtide, hightide\n",
      "('father', 2) grandfather, stepfather\n",
      "('mother', 2) grandmother, stepmother\n",
      "('son', 2) grandson, stepson\n",
      "('daughter', 2) granddaughter, stepdaughter\n",
      "('wax', 2) beeswax, earwax\n",
      "('pool', 1) whirlpool\n",
      "('fall', 1) waterfall\n",
      "('quake', 1) earthquake\n",
      "('bow', 1) rainbow\n",
      "('wood', 1) firewood\n",
      "('coal', 1) charcoal\n",
      "('spring', 1) offspring\n",
      "('men', 1) kinsmen\n",
      "('stock', 1) livestock\n",
      "('gull', 1) seagull\n",
      "('scale', 1) fishscale\n",
      "('ray', 1) stingray\n",
      "('roach', 1) cockroach\n",
      "('hive', 1) beehive\n",
      "('hopper', 1) grasshopper\n",
      "('head', 1) forehead\n",
      "('brow', 1) eyebrow\n",
      "('lid', 1) eyelid\n",
      "('lash', 1) eyelash\n",
      "\n",
      "top 30 modifier words\n",
      "('grand', 4) grandfather, grandmother, grandson, granddaughter\n",
      "('step', 4) stepfather, stepmother, stepson, stepdaughter\n",
      "('be', 4) behind, beside, below, before\n",
      "('head', 3) headland, headband, headdress\n",
      "('fire', 3) firewood, firefly, fireplace\n",
      "('fish', 3) fishscale, fishhook, fishnet\n",
      "('eye', 3) eyebrow, eyelid, eyelash\n",
      "('ear', 3) earlobe, earwax, earring\n",
      "('bee', 2) beeswax, beehive\n",
      "('out', 2) outrigger, outside\n",
      "('to', 2) today, to\n",
      "('is', 1) island\n",
      "('main', 1) mainland\n",
      "('low', 1) lowtide\n",
      "('high', 1) hightide\n",
      "('whirl', 1) whirlpool\n",
      "('water', 1) waterfall\n",
      "('earth', 1) earthquake\n",
      "('rain', 1) rainbow\n",
      "('char', 1) charcoal\n",
      "('off', 1) offspring\n",
      "('kins', 1) kinsmen\n",
      "('live', 1) livestock\n",
      "('herds', 1) herdsman\n",
      "('sea', 1) seagull\n",
      "('sting', 1) stingray\n",
      "('cock', 1) cockroach\n",
      "('sand', 1) sandfly\n",
      "('butter', 1) butterfly\n",
      "('grass', 1) grasshopper\n",
      "\n"
     ]
    }
   ],
   "source": [
    "# get compounds from IDS\n",
    "closed_ids_comps = pd.read_csv('data/ids_words/comps/ids_eng_comp.csv')\n",
    "comps_ids = closed_ids_comps['word'].to_list()\n",
    "parse_ids = {w: (closed_ids_comps['c1'][i], closed_ids_comps['c2'][i]) for i, w in enumerate(comps_ids)}\n",
    "\n",
    "k = 30\n",
    "print(f'total number of (closed) ids compounds: {len(comps_ids)}\\n')\n",
    "\n",
    "print(f'top {k} head words')\n",
    "head_count_ids = print_top_words(comps_ids, parse_ids, 1, k)\n",
    "print('')\n",
    "print(f'top {k} modifier words')\n",
    "modifier_count_ids = print_top_words(comps_ids, parse_ids, 0, k)\n",
    "print('')\n"
   ]
  },
  {
   "cell_type": "code",
   "execution_count": 12,
   "metadata": {},
   "outputs": [
    {
     "name": "stdout",
     "output_type": "stream",
     "text": [
      "closed compounds...\n"
     ]
    },
    {
     "data": {
      "image/png": "[encoded data removed]",
      "text/plain": [
       "<Figure size 1008x259.2 with 4 Axes>"
      ]
     },
     "metadata": {
      "needs_background": "light"
     },
     "output_type": "display_data"
    },
    {
     "name": "stdout",
     "output_type": "stream",
     "text": [
      "all compounds...\n"
     ]
    },
    {
     "data": {
      "image/png": "[encoded data removed]",
      "text/plain": [
       "<Figure size 1008x259.2 with 4 Axes>"
      ]
     },
     "metadata": {
      "needs_background": "light"
     },
     "output_type": "display_data"
    },
    {
     "name": "stdout",
     "output_type": "stream",
     "text": [
      "ids closed compounds...\n"
     ]
    },
    {
     "data": {
      "image/png": "[encoded data removed]",
      "text/plain": [
       "<Figure size 1008x259.2 with 4 Axes>"
      ]
     },
     "metadata": {
      "needs_background": "light"
     },
     "output_type": "display_data"
    }
   ],
   "source": [
    "# plot distributions\n",
    "print('closed compounds...')\n",
    "fig, axes = plt.subplots(1, 4, sharex=False, sharey=False, figsize=(7*2,3.6))\n",
    "axes[0:2] = make_rank_plot(axes[0:2], sorted(head_count_closed.keys(), key=lambda w: -head_count_closed[w]), \\\n",
    "                           head_count_closed, 'Head')\n",
    "axes[2:] = make_rank_plot(axes[2:], sorted(modifier_count_closed.keys(), key=lambda w: -modifier_count_closed[w]), \\\n",
    "                          modifier_count_closed, 'Modifier')\n",
    "fig.tight_layout()\n",
    "plt.show()\n",
    "\n",
    "print('all compounds...')\n",
    "fig, axes = plt.subplots(1, 4, sharex=False, sharey=False, figsize=(7*2,3.6))\n",
    "axes[0:2] = make_rank_plot(axes[0:2], sorted(head_count_full.keys(), key=lambda w: -head_count_full[w]), \\\n",
    "                           head_count_full, 'Head')\n",
    "axes[2:] = make_rank_plot(axes[2:], sorted(modifier_count_full.keys(), key=lambda w: -modifier_count_full[w]), \\\n",
    "                          modifier_count_full, 'Modifier')\n",
    "fig.tight_layout()\n",
    "plt.show()\n",
    "\n",
    "print('ids closed compounds...')\n",
    "fig, axes = plt.subplots(1, 4, sharex=False, sharey=False, figsize=(7*2,3.6))\n",
    "axes[0:2] = make_rank_plot(axes[0:2], sorted(head_count_ids.keys(), key=lambda w: -head_count_ids[w]), \\\n",
    "                           head_count_ids, 'Head')\n",
    "axes[2:] = make_rank_plot(axes[2:], sorted(modifier_count_ids.keys(), key=lambda w: -modifier_count_ids[w]), \\\n",
    "                          modifier_count_ids, 'Modifier')\n",
    "fig.tight_layout()\n",
    "plt.show()\n",
    "\n",
    "\n",
    "\n"
   ]
  },
  {
   "cell_type": "code",
   "execution_count": null,
   "metadata": {},
   "outputs": [],
   "source": []
  }
 ],
 "metadata": {
  "kernelspec": {
   "display_name": "Python 3",
   "language": "python",
   "name": "python3"
  },
  "language_info": {
   "codemirror_mode": {
    "name": "ipython",
    "version": 3
   },
   "file_extension": ".py",
   "mimetype": "text/x-python",
   "name": "python",
   "nbconvert_exporter": "python",
   "pygments_lexer": "ipython3",
   "version": "3.7.3"
  }
 },
 "nbformat": 4,
 "nbformat_minor": 2
}
