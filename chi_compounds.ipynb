{
 "cells": [
  {
   "cell_type": "code",
   "execution_count": 2,
   "metadata": {},
   "outputs": [],
   "source": [
    "import pickle\n",
    "import numpy as np\n",
    "import pandas as pd\n",
    "import seaborn as sns\n",
    "import matplotlib.pyplot as plt\n",
    "from nltk.corpus import wordnet as wn\n",
    "\n",
    "from helpers import *\n",
    "\n",
    "plt.rcParams.update({\n",
    "    'font.size': 12,\n",
    "    'text.usetex': True,\n",
    "    'text.latex.preamble': r'\\usepackage{amsfonts}'\n",
    "})\n"
   ]
  },
  {
   "cell_type": "code",
   "execution_count": 4,
   "metadata": {
    "scrolled": false
   },
   "outputs": [
    {
     "name": "stdout",
     "output_type": "stream",
     "text": [
      "num ids 2-char words = 961\n",
      "num wordnet 2-char words = 14824\n"
     ]
    }
   ],
   "source": [
    "# ids 2-character compounds\n",
    "ids_path = './data/ids_words/ids_cl_chinese(mandarin).Sheet1.csv'\n",
    "ids_chi = pd.read_csv(ids_path)\n",
    "ids_words = ids_chi['Simplified characters'].to_list()\n",
    "ids_twochar_words = [w for w in ids_words if type(w) == str and len(w) == 2]\n",
    "print(f'num ids 2-char words = {len(ids_twochar_words)}')\n",
    "\n",
    "# wordnet 2-character compounds\n",
    "wn_words = [w for w in wn.all_lemma_names(lang='cmn')]\n",
    "wn_twochar_words = [w for w in wn_words if len(w) == 2]\n",
    "print(f'num wordnet 2-char words = {len(wn_twochar_words)}')\n"
   ]
  },
  {
   "cell_type": "code",
   "execution_count": 8,
   "metadata": {},
   "outputs": [
    {
     "name": "stdout",
     "output_type": "stream",
     "text": [
      "top 30 ids head words\n",
      "('子', 56) 孩子, 妻子, 儿子, 孙子, 侄子...\n",
      "('人', 12) 男人, 女人, 老人, 牧人, 商人...\n",
      "('天', 10) 白天, 今天, 明天, 后天, 昨天...\n",
      "('头', 8) 木头, 石头, 骨头, 舌头, 乳头...\n",
      "('开', 8) 烧开, 解开, 切开, 散开, 离开...\n",
      "('面', 8) 后面, 下面, 前面, 前面, 里面...\n",
      "('们', 7) 我们, 咱们, 我们, 你们, 他们...\n",
      "('动', 7) 搅动, 移动, 滚动, 转动, 摇动...\n",
      "('母', 6) 父母, 祖母, 姨母, 姑母, 岳母...\n",
      "('父', 6) 祖父, 舅父, 伯父, 叔父, 岳父...\n",
      "('毛', 6) 体毛, 阴毛, 眉毛, 睫毛, 羽毛...\n",
      "('皮', 6) 眼皮, 去皮, 削皮, 毛皮, 树皮...\n",
      "('餐', 6) 一餐, 早餐, 午餐, 晚餐, 正餐...\n",
      "('女', 5) 少女, 子女, 孙女, 侄女, 继女\n",
      "('地', 4) 陆地, 土地, 田地, 田地\n",
      "('击', 4) 雷击, 攻击, 伏击, 射击\n",
      "('性', 4) 男性, 女性, 雄性, 雌性\n",
      "('物', 4) 动物, 食物, 谷物, 植物\n",
      "('羊', 4) 公羊, 母羊, 羔羊, 山羊\n",
      "('料', 4) 饮料, 布料, 染料, 颜料\n",
      "('匠', 4) 鞋匠, 石匠, 木匠, 铁匠\n",
      "('民', 4) 农民, 人民, 公民, 渔民\n",
      "('麦', 4) 小麦, 大麦, 黑麦, 燕麦\n",
      "('起', 4) 挂起, 抬起, 溅起, 捡起\n",
      "('像', 4) 雕像, 相像, 好像, 偶像\n",
      "('去', 4) 上去, 下去, 出去, 失去\n",
      "('一', 4) 十一, 唯一, 第一, 周一\n",
      "('季', 4) 冬季, 春季, 夏季, 秋季\n",
      "('静', 3) 平静, 安静, 安静\n",
      "('布', 3) 瀑布, 棉布, 宣布\n",
      "\n",
      "top 30 ids modifier words\n",
      "('女', 8) 女人, 女性, 女孩, 女儿, 女婿...\n",
      "('一', 8) 一餐, 一百, 一千, 一些, 一堆...\n",
      "('公', 7) 公公, 公牛, 公羊, 公猪, 公马...\n",
      "('打', 7) 打嗝, 打鼾, 打谷, 打破, 打开...\n",
      "('周', 7) 周日, 周一, 周二, 周三, 周四...\n",
      "('大', 6) 大陆, 大象, 大腿, 大夫, 大麦...\n",
      "('木', 6) 木头, 木柴, 木炭, 木板, 木薯...\n",
      "('母', 6) 母亲, 母牛, 母羊, 母猪, 母马...\n",
      "('小', 6) 小马, 小屋, 小麦, 小船, 小时...\n",
      "('头', 6) 头发, 头屑, 头带, 头饰, 头脑...\n",
      "('下', 6) 下巴, 下沉, 下去, 下面, 下面...\n",
      "('地', 5) 地球, 地震, 地板, 地方, 地狱\n",
      "('海', 5) 海滨, 海洋, 海鸥, 海豚, 海龟\n",
      "('手', 5) 手掌, 手指, 手套, 手镯, 手帕\n",
      "('水', 5) 水疱, 水壶, 水果, 水槽, 水稻\n",
      "('男', 4) 男人, 男性, 男孩, 男巫\n",
      "('祖', 4) 祖父, 祖母, 祖先, 祖国\n",
      "('外', 4) 外孙, 外甥, 外套, 外面\n",
      "('继', 4) 继父, 继母, 继子, 继女\n",
      "('鱼', 4) 鱼鳞, 鱼鳃, 鱼毒, 鱼钩\n",
      "('面', 4) 面颊, 面包, 面粉, 面纱\n",
      "('耳', 4) 耳朵, 耳垂, 耳屎, 耳环\n",
      "('出', 4) 出汗, 出生, 出去, 出示\n",
      "('树', 4) 树枝, 树桩, 树干, 树皮\n",
      "('上', 4) 上升, 上去, 上面, 上午\n",
      "('保', 4) 保持, 保护, 保持, 保佑\n",
      "('十', 4) 十字, 十一, 十二, 十五\n",
      "('天', 3) 天空, 天气, 天堂\n",
      "('阴', 3) 阴影, 阴毛, 阴茎\n",
      "('火', 3) 火焰, 火柴, 火把\n",
      "\n"
     ]
    }
   ],
   "source": [
    "# ids statistics\n",
    "parse_ids = {w: (w[0], w[1]) for i, w in enumerate(ids_twochar_words)}\n",
    "\n",
    "k = 30\n",
    "print(f'top {k} ids head words')\n",
    "head_count_ids = print_top_words(ids_twochar_words, parse_ids, 1, k)\n",
    "print('')\n",
    "print(f'top {k} ids modifier words')\n",
    "modifier_count_ids = print_top_words(ids_twochar_words, parse_ids, 0, k)\n",
    "print('')\n"
   ]
  },
  {
   "cell_type": "code",
   "execution_count": 9,
   "metadata": {},
   "outputs": [
    {
     "name": "stdout",
     "output_type": "stream",
     "text": [
      "top 30 wordnet head words\n",
      "('子', 178) 因子, 痱子, 袋子, 毯子, 梯子...\n",
      "('属', 100) 魣属, 鳚属, 苹属, 鳀属, 蚕属...\n",
      "('出', 86) 汇出, 救出, 拔出, 走出, 涌出...\n",
      "('科', 77) 鹭科, 蚁科, 马科, 魣科, 熊科...\n",
      "('鱼', 65) 梭鱼, 嘉鱼, 鲂鱼, 鲬鱼, 舵鱼...\n",
      "('豆', 64) 豇豆, 角豆, 海豆, 巢豆, 藊豆...\n",
      "('动', 61) 冲动, 举动, 震动, 胎动, 搅动...\n",
      "('化', 61) 西化, 塑化, 氯化, 磁化, 教化...\n",
      "('头', 51) 毛头, 听头, 钟头, 点头, 露头...\n",
      "('人', 49) 诗人, 个人, 主人, 世人, 线人...\n",
      "('石', 49) 抛石, 基石, 散石, 文石, 矿石...\n",
      "('角', 45) 切角, 补角, 攻角, 有角, 街角...\n",
      "('气', 45) 喘气, 怒气, 废气, 叹气, 风气...\n",
      "('面', 45) 弧面, 露面, 鼓面, 饰面, 锋面...\n",
      "('车', 45) 机车, 卡车, 铲车, 柩车, 餐车...\n",
      "('水', 44) 腹水, 下水, 井水, 浸水, 洒水...\n",
      "('草', 44) 芳草, 扁草, 冰草, 疯草, 烟草...\n",
      "('点', 44) 地点, 腹点, 弱点, 踩点, 焦点...\n",
      "('体', 43) 个体, 立体, 身体, 胎体, 解体...\n",
      "('板', 43) 菜板, 闸板, 地板, 楼板, 插板...\n",
      "('道', 42) 赤道, 侧道, 频道, 堤道, 波道...\n",
      "('月', 42) 满月, 牧月, 两月, 足月, 雪月...\n",
      "('数', 41) 次数, 大数, 模数, 行数, 减数...\n",
      "('起', 39) 垫起, 竖起, 眠起, 勃起, 隆起...\n",
      "('酸', 39) 锰酸, 钛酸, 铬酸, 黏酸, 氯酸...\n",
      "('行', 38) 新行, 进行, 步行, 丑行, 品行...\n",
      "('入', 38) 吸入, 塞入, 混入, 穿入, 陷入...\n",
      "('木', 38) 红木, 麻木, 软木, 王木, 旋木...\n",
      "('带', 37) 臂带, 胸带, 绑带, G带, 胶带...\n",
      "('线', 36) 支线, 高线, 螺线, 肠线, 曲线...\n",
      "\n",
      "top 30 wordnet modifier words\n",
      "('小', 80) 小叶, 小兔, 小羊, 小麦, 小猪...\n",
      "('大', 76) 大桶, 大数, 大厅, 大鲍, 大概...\n",
      "('发', 65) 发胶, 发笑, 发射, 发呆, 发疱...\n",
      "('海', 64) 海绵, 海燕, 海兔, 海鸠, 海豆...\n",
      "('水', 63) 水韭, 水禽, 水沟, 水桶, 水牛...\n",
      "('一', 59) 一团, 一直, 一瞥, 一堆, 一匙...\n",
      "('变', 56) 变骨, 变红, 变革, 变薄, 变凉...\n",
      "('分', 53) 分派, 分布, 分离, 分配, 分给...\n",
      "('公', 49) 公猪, 公元, 公丈, 公吨, 公约...\n",
      "('白', 45) 白金, 白喉, 白栎, 白鹭, 白土...\n",
      "('地', 42) 地点, 地板, 地血, 地席, 地椒...\n",
      "('下', 41) 下颚, 下午, 下水, 下狱, 下落...\n",
      "('前', 40) 前门, 前景, 前翼, 前座, 前蹄...\n",
      "('石', 39) 石濡, 石窟, 石鳖, 石吸, 石灰...\n",
      "('手', 39) 手指, 手腕, 手把, 手宽, 手铲...\n",
      "('重', 37) 重建, 重编, 重炮, 重责, 重于...\n",
      "('回', 37) 回绝, 回溯, 回报, 回流, 回历...\n",
      "('火', 36) 火险, 火星, 火把, 火炬, 火腿...\n",
      "('黑', 35) 黑色, 黑貂, 黑店, 黑鸭, 黑茄...\n",
      "('打', 35) 打听, 打旋, 打雷, 打洞, 打探...\n",
      "('加', 34) 加热, 加深, 加薪, 加压, 加温...\n",
      "('反', 33) 反射, 反冲, 反抗, 反复, 反英...\n",
      "('花', 33) 花圃, 花药, 花缎, 花去, 花托...\n",
      "('不', 32) 不忠, 不幸, 不删, 不付, 不安...\n",
      "('出', 32) 出庭, 出生, 出轨, 出去, 出价...\n",
      "('电', 32) 电锤, 电灶, 电泳, 电荷, 电灯...\n",
      "('木', 31) 木绵, 木炭, 木马, 木蜂, 木桶...\n",
      "('马', 31) 马革, 马虎, 马蝇, 马科, 马梳...\n",
      "('天', 31) 天灾, 天然, 天亮, 天房, 天豆...\n",
      "('长', 30) 长短, 长杆, 长嘴, 长蝽, 长袖...\n",
      "\n"
     ]
    }
   ],
   "source": [
    "# wn statistics\n",
    "parse_wn = {w: (w[0], w[1]) for i, w in enumerate(wn_twochar_words)}\n",
    "\n",
    "k = 30\n",
    "print(f'top {k} wordnet head words')\n",
    "head_count_wn = print_top_words(wn_twochar_words, parse_wn, 1, k)\n",
    "print('')\n",
    "print(f'top {k} wordnet modifier words')\n",
    "modifier_count_wn = print_top_words(wn_twochar_words, parse_wn, 0, k)\n",
    "print('')\n"
   ]
  },
  {
   "cell_type": "code",
   "execution_count": 7,
   "metadata": {},
   "outputs": [
    {
     "name": "stdout",
     "output_type": "stream",
     "text": [
      "ids compounds...\n"
     ]
    },
    {
     "data": {
      "image/png": "[encoded data removed]",
      "text/plain": [
       "<Figure size 1008x259.2 with 4 Axes>"
      ]
     },
     "metadata": {
      "needs_background": "light"
     },
     "output_type": "display_data"
    },
    {
     "name": "stdout",
     "output_type": "stream",
     "text": [
      "wordnet compounds...\n"
     ]
    },
    {
     "data": {
      "image/png": "[encoded data removed]",
      "text/plain": [
       "<Figure size 1008x259.2 with 4 Axes>"
      ]
     },
     "metadata": {
      "needs_background": "light"
     },
     "output_type": "display_data"
    }
   ],
   "source": [
    "# plot distributions\n",
    "print('ids compounds...')\n",
    "fig, axes = plt.subplots(1, 4, sharex=False, sharey=False, figsize=(7*2,3.6))\n",
    "axes[0:2] = make_rank_plot(axes[0:2], sorted(head_count_ids.keys(), key=lambda w: -head_count_ids[w]), \\\n",
    "                           head_count_ids, 'Head')\n",
    "axes[2:] = make_rank_plot(axes[2:], sorted(modifier_count_ids.keys(), key=lambda w: -modifier_count_ids[w]), \\\n",
    "                          modifier_count_ids, 'Modifier')\n",
    "fig.tight_layout()\n",
    "plt.show()\n",
    "\n",
    "print('wordnet compounds...')\n",
    "fig, axes = plt.subplots(1, 4, sharex=False, sharey=False, figsize=(7*2,3.6))\n",
    "axes[0:2] = make_rank_plot(axes[0:2], sorted(head_count_wn.keys(), key=lambda w: -head_count_wn[w]), \\\n",
    "                           head_count_wn, 'Head')\n",
    "axes[2:] = make_rank_plot(axes[2:], sorted(modifier_count_wn.keys(), key=lambda w: -modifier_count_wn[w]), \\\n",
    "                          modifier_count_wn, 'Modifier')\n",
    "fig.tight_layout()\n",
    "plt.show()\n"
   ]
  },
  {
   "cell_type": "code",
   "execution_count": null,
   "metadata": {},
   "outputs": [],
   "source": []
  }
 ],
 "metadata": {
  "kernelspec": {
   "display_name": "Python 3",
   "language": "python",
   "name": "python3"
  },
  "language_info": {
   "codemirror_mode": {
    "name": "ipython",
    "version": 3
   },
   "file_extension": ".py",
   "mimetype": "text/x-python",
   "name": "python",
   "nbconvert_exporter": "python",
   "pygments_lexer": "ipython3",
   "version": "3.7.3"
  }
 },
 "nbformat": 4,
 "nbformat_minor": 2
}
